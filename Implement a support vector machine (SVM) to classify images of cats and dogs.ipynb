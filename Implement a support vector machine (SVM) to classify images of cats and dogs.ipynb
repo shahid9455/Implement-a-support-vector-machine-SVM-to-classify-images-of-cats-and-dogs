{
 "cells": [
  {
   "cell_type": "markdown",
   "id": "272ef2ee",
   "metadata": {},
   "source": [
    "# Task NO. 03      Implement a support vector machine (SVM) to classify images of cats and dogs from the Kaggle dataset.\n",
    "\n",
    "\n",
    "Dataset :- https://www.kaggle.com/c/dogs-vs-cats/data\n",
    " "
   ]
  },
  {
   "cell_type": "code",
   "execution_count": 1,
   "id": "178ae480",
   "metadata": {},
   "outputs": [],
   "source": [
    "import os\n",
    "import numpy as np\n",
    "import cv2\n",
    "from sklearn.svm import SVC\n",
    "from sklearn.metrics import classification_report, confusion_matrix\n",
    "from sklearn.model_selection import GridSearchCV, train_test_split\n",
    "from sklearn.decomposition import PCA\n",
    "from sklearn.pipeline import Pipeline\n",
    "import seaborn as sns\n",
    "import matplotlib.pyplot as plt\n",
    "import time\n"
   ]
  },
  {
   "cell_type": "code",
   "execution_count": 2,
   "id": "6e44d363",
   "metadata": {},
   "outputs": [],
   "source": [
    "dataset_dir = \"train111/\"\n",
    "train_dir = dataset_dir\n",
    "confusion_image_path = os.path.join(train_dir, 'confusion_matrix.png')\n",
    "classification_file_path = os.path.join(train_dir, 'classification_report.txt')\n",
    "model_file_path = os.path.join(train_dir, \"svm_model.pkl\")\n"
   ]
  },
  {
   "cell_type": "code",
   "execution_count": 3,
   "id": "1a090e03",
   "metadata": {},
   "outputs": [],
   "source": [
    "image_size = (50, 50)\n",
    "features = []\n",
    "labels = []\n",
    "\n"
   ]
  },
  {
   "cell_type": "code",
   "execution_count": 4,
   "id": "243a9b5b",
   "metadata": {},
   "outputs": [],
   "source": [
    "from joblib import Parallel, delayed\n",
    "\n",
    "def process_image(image_path, image_size):\n",
    "    label = 0 if image_path.startswith('cat') else 1\n",
    "    image_read = cv2.imread(image_path)\n",
    "    image_resized = cv2.resize(image_read, image_size)\n",
    "    image_normalized = image_resized / 255.0\n",
    "    image_flatten = image_normalized.flatten()\n",
    "    return image_flatten, label\n"
   ]
  },
  {
   "cell_type": "code",
   "execution_count": 5,
   "id": "34aec9fc",
   "metadata": {},
   "outputs": [
    {
     "name": "stderr",
     "output_type": "stream",
     "text": [
      "Processing Train Images: 100%|█████████████████████████████████████████████████████| 4002/4002 [00:51<00:00, 77.33it/s]\n"
     ]
    }
   ],
   "source": [
    "from tqdm import tqdm \n",
    "\n",
    "\n",
    "features = []\n",
    "labels = []\n",
    "\n",
    "for image_name in tqdm(os.listdir(train_dir), desc=\"Processing Train Images\"):\n",
    "    if image_name[0:3] == 'cat':\n",
    "        label = 0\n",
    "    else:\n",
    "        label = 1\n",
    "    \n",
    "    image_path = os.path.join(train_dir, image_name)\n",
    "    image_read = cv2.imread(image_path)\n",
    "    if image_read is not None:\n",
    "        image_resized = cv2.resize(image_read, image_size)\n",
    "        image_normalized = image_resized / 255.0\n",
    "        image_flatten = image_normalized.flatten()\n",
    "        features.append(image_flatten)\n",
    "        labels.append(label)\n",
    "\n",
    "features = np.asarray(features)\n",
    "labels = np.asarray(labels)\n"
   ]
  },
  {
   "cell_type": "code",
   "execution_count": 6,
   "id": "2864256c",
   "metadata": {},
   "outputs": [
    {
     "data": {
      "image/png": "[encoded data removed]",
      "text/plain": [
       "<Figure size 640x480 with 1 Axes>"
      ]
     },
     "metadata": {},
     "output_type": "display_data"
    }
   ],
   "source": [
    "sns.countplot(x=labels)\n",
    "plt.xlabel('Class')\n",
    "plt.ylabel('Count')\n",
    "plt.xticks([0, 1], ['Cat', 'Dog'])\n",
    "plt.title('Class Distribution')\n",
    "plt.show()"
   ]
  },
  {
   "cell_type": "code",
   "execution_count": 7,
   "id": "53afd98a",
   "metadata": {},
   "outputs": [],
   "source": [
    "X_train, X_test, y_train, y_test = train_test_split(features, labels, test_size=0.2, random_state=42)\n",
    "\n",
    "pipeline = Pipeline([\n",
    "    ('pca', PCA(n_components=0.8, random_state=42)),\n",
    "    ('svm', SVC())\n",
    "])"
   ]
  },
  {
   "cell_type": "code",
   "execution_count": 8,
   "id": "f292b72f",
   "metadata": {},
   "outputs": [],
   "source": [
    "param_grid = {\n",
    "    'pca__n_components': [0.8],\n",
    "    'svm__kernel': ['linear', 'rbf', 'poly', 'sigmoid'],\n",
    "}"
   ]
  },
  {
   "cell_type": "code",
   "execution_count": 9,
   "id": "48d0c8e6",
   "metadata": {
    "scrolled": true
   },
   "outputs": [
    {
     "name": "stdout",
     "output_type": "stream",
     "text": [
      "Fitting 3 folds for each of 4 candidates, totalling 12 fits\n",
      "[CV 1/3] END pca__n_components=0.8, svm__kernel=linear;, score=0.578 total time=  49.0s\n",
      "[CV 2/3] END pca__n_components=0.8, svm__kernel=linear;, score=0.575 total time=  48.9s\n",
      "[CV 3/3] END pca__n_components=0.8, svm__kernel=linear;, score=0.577 total time=  48.2s\n",
      "[CV 1/3] END pca__n_components=0.8, svm__kernel=rbf;, score=0.636 total time=  38.5s\n",
      "[CV 2/3] END pca__n_components=0.8, svm__kernel=rbf;, score=0.619 total time=  46.4s\n",
      "[CV 3/3] END pca__n_components=0.8, svm__kernel=rbf;, score=0.632 total time=  30.2s\n",
      "[CV 1/3] END pca__n_components=0.8, svm__kernel=poly;, score=0.573 total time=  28.6s\n",
      "[CV 2/3] END pca__n_components=0.8, svm__kernel=poly;, score=0.560 total time=  29.4s\n",
      "[CV 3/3] END pca__n_components=0.8, svm__kernel=poly;, score=0.574 total time=  27.9s\n",
      "[CV 1/3] END pca__n_components=0.8, svm__kernel=sigmoid;, score=0.539 total time=  29.1s\n",
      "[CV 2/3] END pca__n_components=0.8, svm__kernel=sigmoid;, score=0.521 total time=  29.0s\n",
      "[CV 3/3] END pca__n_components=0.8, svm__kernel=sigmoid;, score=0.523 total time=  30.1s\n"
     ]
    }
   ],
   "source": [
    "start_time = time.time()\n",
    "grid_search = GridSearchCV(pipeline, param_grid, cv=3, verbose=4)\n",
    "grid_search.fit(X_train, y_train)\n",
    "end_time = time.time()\n"
   ]
  },
  {
   "cell_type": "code",
   "execution_count": 10,
   "id": "2a73b83b",
   "metadata": {},
   "outputs": [],
   "source": [
    "best_pipeline = grid_search.best_estimator_\n",
    "best_params = grid_search.best_params_\n",
    "best_score = grid_search.best_score_\n"
   ]
  },
  {
   "cell_type": "code",
   "execution_count": 11,
   "id": "ca6df303",
   "metadata": {},
   "outputs": [
    {
     "name": "stdout",
     "output_type": "stream",
     "text": [
      "Best Parameters:  {'pca__n_components': 0.8, 'svm__kernel': 'rbf'}\n",
      "Best Score:  0.6290635020833663\n"
     ]
    }
   ],
   "source": [
    "print(\"Best Parameters: \", best_params)\n",
    "print(\"Best Score: \", best_score)\n"
   ]
  },
  {
   "cell_type": "code",
   "execution_count": 12,
   "id": "abb72bee",
   "metadata": {},
   "outputs": [
    {
     "name": "stdout",
     "output_type": "stream",
     "text": [
      "Accuracy: 0.66167290886392\n"
     ]
    }
   ],
   "source": [
    "accuracy = best_pipeline.score(X_test, y_test)\n",
    "print(\"Accuracy:\", accuracy)\n"
   ]
  },
  {
   "cell_type": "code",
   "execution_count": 13,
   "id": "f0d45fe2",
   "metadata": {},
   "outputs": [],
   "source": [
    "y_pred = best_pipeline.predict(X_test)"
   ]
  },
  {
   "cell_type": "code",
   "execution_count": 14,
   "id": "048539a3",
   "metadata": {},
   "outputs": [
    {
     "name": "stdout",
     "output_type": "stream",
     "text": [
      "Classification Report:\n",
      "               precision    recall  f1-score   support\n",
      "\n",
      "         Cat       0.70      0.63      0.66       422\n",
      "         Dog       0.63      0.69      0.66       379\n",
      "\n",
      "    accuracy                           0.66       801\n",
      "   macro avg       0.66      0.66      0.66       801\n",
      "weighted avg       0.66      0.66      0.66       801\n",
      "\n"
     ]
    }
   ],
   "source": [
    "target_names = ['Cat', 'Dog']\n",
    "classification_rep = classification_report(y_test, y_pred, target_names=target_names)\n",
    "print(\"Classification Report:\\n\", classification_rep)"
   ]
  },
  {
   "cell_type": "code",
   "execution_count": 15,
   "id": "79b5e730",
   "metadata": {},
   "outputs": [],
   "source": [
    "with open(classification_file_path, 'w') as file:\n",
    "    file.write(classification_rep)"
   ]
  },
  {
   "cell_type": "code",
   "execution_count": 16,
   "id": "60af4f53",
   "metadata": {
    "scrolled": false
   },
   "outputs": [
    {
     "data": {
      "image/png": "[encoded data removed]",
      "text/plain": [
       "<Figure size 640x480 with 2 Axes>"
      ]
     },
     "metadata": {},
     "output_type": "display_data"
    }
   ],
   "source": [
    "cm = confusion_matrix(y_test, y_pred)\n",
    "sns.heatmap(cm, annot=True, fmt=\"d\", cmap=\"Blues\")\n",
    "plt.xlabel('Predicted labels')\n",
    "plt.ylabel('True labels')\n",
    "plt.savefig(confusion_image_path)\n",
    "plt.show()"
   ]
  },
  {
   "cell_type": "code",
   "execution_count": null,
   "id": "63cfcc99",
   "metadata": {},
   "outputs": [],
   "source": []
  }
 ],
 "metadata": {
  "kernelspec": {
   "display_name": "Python 3 (ipykernel)",
   "language": "python",
   "name": "python3"
  },
  "language_info": {
   "codemirror_mode": {
    "name": "ipython",
    "version": 3
   },
   "file_extension": ".py",
   "mimetype": "text/x-python",
   "name": "python",
   "nbconvert_exporter": "python",
   "pygments_lexer": "ipython3",
   "version": "3.11.5"
  }
 },
 "nbformat": 4,
 "nbformat_minor": 5
}
